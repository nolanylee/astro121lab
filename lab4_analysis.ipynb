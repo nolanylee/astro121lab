{
 "cells": [
  {
   "cell_type": "code",
   "execution_count": 1,
   "metadata": {},
   "outputs": [
    {
     "name": "stdout",
     "output_type": "stream",
     "text": [
      "No module named 'rtlsdr'\n"
     ]
    }
   ],
   "source": [
    "import ugradio\n",
    "import numpy as np\n",
    "import pandas as pd\n",
    "from astropy.io import fits\n",
    "import matplotlib.pyplot as plt\n",
    "import dish\n",
    "import cartopy.crs as ccrs\n",
    "from scipy.interpolate import interp2d\n",
    "from tqdm import tqdm, trange"
   ]
  },
  {
   "cell_type": "code",
   "execution_count": 2,
   "metadata": {},
   "outputs": [],
   "source": [
    "gal_b = []\n",
    "gal_l = []\n",
    "bs = np.arange(-70, -8, 2)\n",
    "for b in bs:\n",
    "    ls = np.arange(160, 220.1, 2/np.cos(b*np.pi/180))\n",
    "    for l in ls:\n",
    "        np.array(gal_b.append(b))\n",
    "        np.array(gal_l.append(l))"
   ]
  },
  {
   "cell_type": "code",
   "execution_count": 3,
   "metadata": {},
   "outputs": [],
   "source": [
    "x, y = np.meshgrid(gal_l, gal_b)"
   ]
  },
  {
   "cell_type": "code",
   "execution_count": 4,
   "metadata": {},
   "outputs": [
    {
     "data": {
      "image/png": "[encoded data removed]",
      "text/plain": [
       "<Figure size 432x288 with 1 Axes>"
      ]
     },
     "metadata": {
      "needs_background": "light"
     },
     "output_type": "display_data"
    }
   ],
   "source": [
    "fig, ax = plt.subplots(subplot_kw={'projection':ccrs.Mollweide()})\n",
    "\n",
    "temp=np.random.rand(len(x),len(y)) #replace with real data\n",
    "ax.imshow(temp,extent=[160,220,-70,-10], transform=ccrs.PlateCarree())\n",
    "\n",
    "#TO-DO: rotate and crop\n",
    "\n",
    "plt.grid()\n",
    "plt.show()"
   ]
  },
  {
   "cell_type": "code",
   "execution_count": 5,
   "metadata": {},
   "outputs": [],
   "source": [
    "def calibrate(data_nd0, data_nd1, pol):\n",
    "    diff = np.array(data_nd1) - np.array(data_nd0)\n",
    "    if pol == 0:\n",
    "        T = 90\n",
    "    elif pol == 1:\n",
    "        T = 65\n",
    "    else: print('Bruh its literally either a 0 or 1 you cant fuck it up')\n",
    "    G = T/diff\n",
    "    t_line = G * data_nd0\n",
    "    return t_line"
   ]
  },
  {
   "cell_type": "code",
   "execution_count": 6,
   "metadata": {},
   "outputs": [],
   "source": [
    "def interp(data, L_t, B_t, L_m, B_m):\n",
    "    spline = interp2d(L_m, B_m, data)\n",
    "    t_interp = spline(L_t, B_t)\n",
    "    return t_interp"
   ]
  },
  {
   "cell_type": "code",
   "execution_count": 7,
   "metadata": {},
   "outputs": [
    {
     "ename": "NameError",
     "evalue": "name 'interp2d' is not defined",
     "output_type": "error",
     "traceback": [
      "\u001b[0;31m---------------------------------------------------------------------------\u001b[0m",
      "\u001b[0;31mNameError\u001b[0m                                 Traceback (most recent call last)",
      "\u001b[0;32m<ipython-input-7-46f05880e739>\u001b[0m in \u001b[0;36m<module>\u001b[0;34m\u001b[0m\n\u001b[1;32m      9\u001b[0m \u001b[0;32mfor\u001b[0m \u001b[0mi\u001b[0m \u001b[0;32min\u001b[0m \u001b[0mrange\u001b[0m\u001b[0;34m(\u001b[0m\u001b[0msize\u001b[0m\u001b[0;34m)\u001b[0m\u001b[0;34m:\u001b[0m\u001b[0;34m\u001b[0m\u001b[0;34m\u001b[0m\u001b[0m\n\u001b[1;32m     10\u001b[0m     \u001b[0;32mfor\u001b[0m \u001b[0mj\u001b[0m \u001b[0;32min\u001b[0m \u001b[0mrange\u001b[0m\u001b[0;34m(\u001b[0m\u001b[0msize\u001b[0m\u001b[0;34m)\u001b[0m\u001b[0;34m:\u001b[0m\u001b[0;34m\u001b[0m\u001b[0;34m\u001b[0m\u001b[0m\n\u001b[0;32m---> 11\u001b[0;31m         \u001b[0mtemp\u001b[0m\u001b[0;34m[\u001b[0m\u001b[0mi\u001b[0m\u001b[0;34m,\u001b[0m\u001b[0mj\u001b[0m\u001b[0;34m]\u001b[0m \u001b[0;34m=\u001b[0m \u001b[0minterp\u001b[0m\u001b[0;34m(\u001b[0m\u001b[0mtemp\u001b[0m\u001b[0;34m,\u001b[0m \u001b[0mL\u001b[0m\u001b[0;34m[\u001b[0m\u001b[0mi\u001b[0m\u001b[0;34m]\u001b[0m\u001b[0;34m,\u001b[0m \u001b[0mB\u001b[0m\u001b[0;34m[\u001b[0m\u001b[0mj\u001b[0m\u001b[0;34m]\u001b[0m\u001b[0;34m,\u001b[0m \u001b[0mgal_l\u001b[0m\u001b[0;34m,\u001b[0m \u001b[0mgal_b\u001b[0m\u001b[0;34m)\u001b[0m\u001b[0;34m\u001b[0m\u001b[0;34m\u001b[0m\u001b[0m\n\u001b[0m",
      "\u001b[0;32m<ipython-input-2-a8bb75407e84>\u001b[0m in \u001b[0;36minterp\u001b[0;34m(data, L_t, B_t, L_m, B_m)\u001b[0m\n\u001b[1;32m      1\u001b[0m \u001b[0;32mdef\u001b[0m \u001b[0minterp\u001b[0m\u001b[0;34m(\u001b[0m\u001b[0mdata\u001b[0m\u001b[0;34m,\u001b[0m \u001b[0mL_t\u001b[0m\u001b[0;34m,\u001b[0m \u001b[0mB_t\u001b[0m\u001b[0;34m,\u001b[0m \u001b[0mL_m\u001b[0m\u001b[0;34m,\u001b[0m \u001b[0mB_m\u001b[0m\u001b[0;34m)\u001b[0m\u001b[0;34m:\u001b[0m\u001b[0;34m\u001b[0m\u001b[0;34m\u001b[0m\u001b[0m\n\u001b[0;32m----> 2\u001b[0;31m     \u001b[0mspline\u001b[0m \u001b[0;34m=\u001b[0m \u001b[0minterp2d\u001b[0m\u001b[0;34m(\u001b[0m\u001b[0mL_m\u001b[0m\u001b[0;34m,\u001b[0m \u001b[0mB_m\u001b[0m\u001b[0;34m,\u001b[0m \u001b[0mdata\u001b[0m\u001b[0;34m)\u001b[0m\u001b[0;34m\u001b[0m\u001b[0;34m\u001b[0m\u001b[0m\n\u001b[0m\u001b[1;32m      3\u001b[0m     \u001b[0mt_interp\u001b[0m \u001b[0;34m=\u001b[0m \u001b[0mspline\u001b[0m\u001b[0;34m(\u001b[0m\u001b[0mL_t\u001b[0m\u001b[0;34m,\u001b[0m \u001b[0mB_t\u001b[0m\u001b[0;34m)\u001b[0m\u001b[0;34m\u001b[0m\u001b[0;34m\u001b[0m\u001b[0m\n\u001b[1;32m      4\u001b[0m     \u001b[0;32mreturn\u001b[0m \u001b[0mt_interp\u001b[0m\u001b[0;34m\u001b[0m\u001b[0;34m\u001b[0m\u001b[0m\n",
      "\u001b[0;31mNameError\u001b[0m: name 'interp2d' is not defined"
     ]
    }
   ],
   "source": [
    "#DO NOT RUN THIS CELL UNTIL DATA IS COLLECTED\n",
    "\n",
    "size = 700\n",
    "temp = np.empty((size, size))\n",
    "l = np.linspace(160,220,size)\n",
    "b = np.linspace(-70,-10,size)\n",
    "L, B = np.meshgrid(l,b)\n",
    "\n",
    "for i in range(size):\n",
    "    for j in range(size):\n",
    "        temp[i,j] = interp(temp, L[i], B[j], gal_l, gal_b)"
   ]
  },
  {
   "cell_type": "code",
   "execution_count": 7,
   "metadata": {},
   "outputs": [
    {
     "name": "stderr",
     "output_type": "stream",
     "text": [
      "100%|██████████| 350/350 [01:14<00:00,  4.72it/s]\n"
     ]
    }
   ],
   "source": [
    "nfiles = 350\n",
    "nspec = 50\n",
    "nfreq = 8192\n",
    "\n",
    "list_0 = np.empty((nfiles, nspec, nfreq))\n",
    "list_1 = np.empty((nfiles, nspec, nfreq))\n",
    "\n",
    "for i in trange(nfiles):\n",
    "    \n",
    "    f = fits.open(f'lab4_data/{i}_nd0.fits')\n",
    "    \n",
    "    for j in range(nspec):\n",
    "        \n",
    "        list_0[i,j] = f[j+1].data['auto0_real']\n",
    "        \n",
    "        list_1[i,j] = f[j+1].data['auto1_real']"
   ]
  },
  {
   "cell_type": "code",
   "execution_count": 8,
   "metadata": {},
   "outputs": [],
   "source": [
    "mean_specs_0 = np.mean(list_0, axis=1)\n",
    "mean_specs_1 = np.mean(list_1, axis=1)"
   ]
  },
  {
   "cell_type": "code",
   "execution_count": 9,
   "metadata": {},
   "outputs": [
    {
     "name": "stderr",
     "output_type": "stream",
     "text": [
      "100%|██████████| 350/350 [00:08<00:00, 43.75it/s]\n"
     ]
    }
   ],
   "source": [
    "noise_spec = 5\n",
    "\n",
    "noise_0 = np.empty((nfiles, noise_spec, nfreq))\n",
    "noise_1 = np.empty((nfiles, noise_spec, nfreq))\n",
    "\n",
    "for i in trange(nfiles):\n",
    "    \n",
    "    f = fits.open(f'lab4_data/{i}_nd1.fits')\n",
    "    \n",
    "    for j in range(noise_spec):\n",
    "        \n",
    "        noise_0[i,j] = f[j+1].data['auto0_real']\n",
    "        \n",
    "        noise_1[i,j] = f[j+1].data['auto1_real']"
   ]
  },
  {
   "cell_type": "code",
   "execution_count": 10,
   "metadata": {},
   "outputs": [],
   "source": [
    "mean_noise_0 = np.mean(noise_0, axis=1)\n",
    "mean_noise_1 = np.mean(noise_1, axis=1)"
   ]
  },
  {
   "cell_type": "code",
   "execution_count": 11,
   "metadata": {},
   "outputs": [
    {
     "name": "stderr",
     "output_type": "stream",
     "text": [
      "<ipython-input-5-c29c21b26c69>:8: RuntimeWarning: divide by zero encountered in true_divide\n",
      "  G = T/diff\n",
      "<ipython-input-5-c29c21b26c69>:9: RuntimeWarning: invalid value encountered in multiply\n",
      "  t_line = G * data_nd0\n"
     ]
    }
   ],
   "source": [
    "tline_0 = calibrate(mean_specs_0, mean_noise_0, 0)\n",
    "tline_1 = calibrate(mean_specs_1, mean_noise_1, 1)"
   ]
  },
  {
   "cell_type": "code",
   "execution_count": 17,
   "metadata": {},
   "outputs": [
    {
     "data": {
      "text/plain": [
       "Text(0.5, 0.98, 'Test Data Power Spectra')"
      ]
     },
     "execution_count": 17,
     "metadata": {},
     "output_type": "execute_result"
    },
    {
     "data": {
      "image/png": "[encoded data removed]",
      "text/plain": [
       "<Figure size 720x288 with 2 Axes>"
      ]
     },
     "metadata": {
      "needs_background": "light"
     },
     "output_type": "display_data"
    }
   ],
   "source": [
    "freq = np.linspace(144,156,8192)\n",
    "\n",
    "fig, (ax1, ax2) = plt.subplots(nrows=1, ncols=2, sharex=True, sharey=False, figsize=(10,4))\n",
    "\n",
    "ax1.plot(freq, tline_0[200], color='b')\n",
    "ax1.set_title('Temp at Polarization 0', fontsize=12)\n",
    "ax1.set_xlabel('Frequency [MHz]', fontsize=10)\n",
    "ax1.xaxis.set_tick_params(labelsize=8)\n",
    "ax1.yaxis.set_tick_params(labelsize=8)\n",
    "ax1.set_ylabel('Temperature [K]', fontsize=10)\n",
    "ax1.grid()\n",
    "\n",
    "ax2.plot(freq, tline_1[200], color='b')\n",
    "ax2.set_title('Temp at Polarization 1', fontsize=12)\n",
    "ax2.set_xlabel('Frequency [MHz]')\n",
    "ax2.xaxis.set_tick_params(labelsize=8)\n",
    "ax2.grid()\n",
    "\n",
    "fig.suptitle('Test Data Power Spectra', fontsize=14)"
   ]
  },
  {
   "cell_type": "code",
   "execution_count": null,
   "metadata": {},
   "outputs": [],
   "source": []
  }
 ],
 "metadata": {
  "kernelspec": {
   "display_name": "Python 3",
   "language": "python",
   "name": "python3"
  },
  "language_info": {
   "codemirror_mode": {
    "name": "ipython",
    "version": 3
   },
   "file_extension": ".py",
   "mimetype": "text/x-python",
   "name": "python",
   "nbconvert_exporter": "python",
   "pygments_lexer": "ipython3",
   "version": "3.8.10"
  }
 },
 "nbformat": 4,
 "nbformat_minor": 4
}
