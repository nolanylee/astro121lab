{
 "cells": [
  {
   "cell_type": "code",
   "execution_count": 33,
   "metadata": {},
   "outputs": [],
   "source": [
    "from astropy import units as u\n",
    "from astropy.time import Time\n",
    "from astropy.coordinates import Angle, SkyCoord, EarthLocation, AltAz"
   ]
  },
  {
   "cell_type": "code",
   "execution_count": 28,
   "metadata": {},
   "outputs": [],
   "source": [
    "# galactic coordinate given\n",
    "gal_coord = SkyCoord(l=120, b=0, frame='galactic', unit='deg')"
   ]
  },
  {
   "cell_type": "code",
   "execution_count": 29,
   "metadata": {},
   "outputs": [],
   "source": [
    "# convert to icrs which is nearly the same as equatorial coordinates\n",
    "icrs_coord = gal_coord.icrs"
   ]
  },
  {
   "cell_type": "code",
   "execution_count": 46,
   "metadata": {},
   "outputs": [],
   "source": [
    "# convert to altaz, which requires a time and place\n",
    "time = Time.now()\n",
    "campbell = EarthLocation(lat=37.873199 * u.deg, lon=-122.27573 * u.deg, height=20 * u.meter)\n",
    "altaz_frame = AltAz(obstime=time, location=campbell)\n",
    "altaz_coord = gal_coord.transform_to(altaz_frame)"
   ]
  },
  {
   "cell_type": "code",
   "execution_count": 47,
   "metadata": {},
   "outputs": [
    {
     "name": "stdout",
     "output_type": "stream",
     "text": [
      "<SkyCoord (AltAz: obstime=2022-02-23 00:28:25.790788, location=(-2691917.29024376, -4262188.25819648, 3894355.95825005) m, pressure=0.0 hPa, temperature=0.0 deg_C, relative_humidity=0.0, obswl=1.0 micron): (az, alt) in deg\n",
      "    (333.06462671, 58.77432972)>\n"
     ]
    }
   ],
   "source": [
    "print(altaz_coord)"
   ]
  },
  {
   "cell_type": "code",
   "execution_count": 45,
   "metadata": {},
   "outputs": [
    {
     "name": "stdout",
     "output_type": "stream",
     "text": [
      "333.9478770875878 deg2 59.325648569444056 deg2\n"
     ]
    }
   ],
   "source": [
    "print(altaz_coord.az * u.deg, altaz_coord.alt * u.deg)"
   ]
  },
  {
   "cell_type": "code",
   "execution_count": null,
   "metadata": {},
   "outputs": [],
   "source": []
  }
 ],
 "metadata": {
  "kernelspec": {
   "display_name": "Python 3",
   "language": "python",
   "name": "python3"
  },
  "language_info": {
   "codemirror_mode": {
    "name": "ipython",
    "version": 3
   },
   "file_extension": ".py",
   "mimetype": "text/x-python",
   "name": "python",
   "nbconvert_exporter": "python",
   "pygments_lexer": "ipython3",
   "version": "3.6.12"
  }
 },
 "nbformat": 4,
 "nbformat_minor": 5
}
