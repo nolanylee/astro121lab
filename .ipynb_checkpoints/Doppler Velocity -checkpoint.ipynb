{
 "cells": [
  {
   "cell_type": "markdown",
   "metadata": {},
   "source": [
    "# Caluclating Doppler Velocity\n",
    "\n",
    "$$ v = (\\frac{\\nu_o - \\nu_{observed}}{\\nu_{observed}})*c $$ "
   ]
  },
  {
   "cell_type": "code",
   "execution_count": 15,
   "metadata": {},
   "outputs": [],
   "source": [
    "import numpy as np\n",
    "import matplotlib as plt\n",
    "import ugradio as ug\n",
    "import scipy as sc\n",
    "from astropy import units as u\n"
   ]
  },
  {
   "cell_type": "code",
   "execution_count": 20,
   "metadata": {},
   "outputs": [
    {
     "name": "stdout",
     "output_type": "stream",
     "text": [
      "the speed of light is  299792458.0 in m/s\n"
     ]
    }
   ],
   "source": [
    "c = sc.constants.c\n",
    "print(\"the speed of light is \", c, \"in m/s\")"
   ]
  },
  {
   "cell_type": "markdown",
   "metadata": {},
   "source": [
    "## finding the doppler velocity \"v\""
   ]
  },
  {
   "cell_type": "code",
   "execution_count": 24,
   "metadata": {},
   "outputs": [
    {
     "name": "stdout",
     "output_type": "stream",
     "text": [
      "316.62642985409093 km/s\n"
     ]
    }
   ],
   "source": [
    "Nu_o= 1420.4 #MHz\n",
    "Nu_obs = 1420.25 #MHz\n",
    "\n",
    "V = ((Nu_o - Nu_obs )/ Nu_obs) * c\n",
    "V = V*10e-3\n",
    "print(V, \"km/s\")\n"
   ]
  },
  {
   "cell_type": "code",
   "execution_count": null,
   "metadata": {},
   "outputs": [],
   "source": []
  }
 ],
 "metadata": {
  "kernelspec": {
   "display_name": "Python 3",
   "language": "python",
   "name": "python3"
  },
  "language_info": {
   "codemirror_mode": {
    "name": "ipython",
    "version": 3
   },
   "file_extension": ".py",
   "mimetype": "text/x-python",
   "name": "python",
   "nbconvert_exporter": "python",
   "pygments_lexer": "ipython3",
   "version": "3.6.12"
  }
 },
 "nbformat": 4,
 "nbformat_minor": 4
}
