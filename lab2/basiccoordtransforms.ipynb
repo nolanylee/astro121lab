{
 "cells": [
  {
   "cell_type": "code",
   "execution_count": 33,
   "id": "64d92a1a-e73b-4474-8d74-c7c6f3ccfce0",
   "metadata": {},
   "outputs": [],
   "source": [
    "from astropy import units as u\n",
    "from astropy.time import Time\n",
    "from astropy.coordinates import Angle, SkyCoord, EarthLocation, AltAz"
   ]
  },
  {
   "cell_type": "code",
   "execution_count": 28,
   "id": "77738414-911e-4608-b27e-2b815a54ba73",
   "metadata": {},
   "outputs": [],
   "source": [
    "# galactic coordinate given\n",
    "gal_coord = SkyCoord(l=120, b=0, frame='galactic', unit='deg')"
   ]
  },
  {
   "cell_type": "code",
   "execution_count": 29,
   "id": "e2b1bd88-01ce-42f1-8c5e-f245b250fe33",
   "metadata": {},
   "outputs": [],
   "source": [
    "# convert to icrs which is nearly the same as equatorial coordinates\n",
    "icrs_coord = gal_coord.icrs"
   ]
  },
  {
   "cell_type": "code",
   "execution_count": 46,
   "id": "b490ff39-e2e0-4d86-92a3-50116358f05d",
   "metadata": {},
   "outputs": [],
   "source": [
    "# convert to altaz, which requires a time and place\n",
    "time = Time.now()\n",
    "campbell = EarthLocation(lat=37.873199 * u.deg, lon=-122.27573 * u.deg, height=20 * u.meter)\n",
    "altaz_frame = AltAz(obstime=time, location=campbell)\n",
    "altaz_coord = gal_coord.transform_to(altaz_frame)"
   ]
  },
  {
   "cell_type": "code",
   "execution_count": 47,
   "id": "0c6a311b-9825-43fd-bef6-c296da771ca4",
   "metadata": {},
   "outputs": [
    {
     "name": "stdout",
     "output_type": "stream",
     "text": [
      "<SkyCoord (AltAz: obstime=2022-02-23 00:28:25.790788, location=(-2691917.29024376, -4262188.25819648, 3894355.95825005) m, pressure=0.0 hPa, temperature=0.0 deg_C, relative_humidity=0.0, obswl=1.0 micron): (az, alt) in deg\n",
      "    (333.06462671, 58.77432972)>\n"
     ]
    }
   ],
   "source": [
    "print(altaz_coord)"
   ]
  },
  {
   "cell_type": "code",
   "execution_count": 45,
   "id": "2a88fd27-0a6c-478f-8dc7-4991a713818e",
   "metadata": {},
   "outputs": [
    {
     "name": "stdout",
     "output_type": "stream",
     "text": [
      "333.9478770875878 deg2 59.325648569444056 deg2\n"
     ]
    }
   ],
   "source": [
    "print(altaz_coord.az * u.deg, altaz_coord.alt * u.deg)"
   ]
  },
  {
   "cell_type": "code",
   "execution_count": null,
   "id": "4325ea09-3396-4cf4-816f-2f2544af71b9",
   "metadata": {},
   "outputs": [],
   "source": []
  }
 ],
 "metadata": {
  "kernelspec": {
   "display_name": "Python 3 (ipykernel)",
   "language": "python",
   "name": "python3"
  },
  "language_info": {
   "codemirror_mode": {
    "name": "ipython",
    "version": 3
   },
   "file_extension": ".py",
   "mimetype": "text/x-python",
   "name": "python",
   "nbconvert_exporter": "python",
   "pygments_lexer": "ipython3",
   "version": "3.7.11"
  }
 },
 "nbformat": 4,
 "nbformat_minor": 5
}
