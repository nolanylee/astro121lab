{
 "cells": [
  {
   "cell_type": "code",
   "execution_count": 1,
   "id": "afeab6f5",
   "metadata": {},
   "outputs": [],
   "source": [
    "import numpy as np\n",
    "import pandas as pd\n",
    "import matplotlib.pyplot as plt #pyplot is a submodule of matplotlib, so \n",
    "#every time we call plt we're actually calling matplotlib.pyplot"
   ]
  },
  {
   "cell_type": "code",
   "execution_count": 3,
   "id": "e4f36802",
   "metadata": {},
   "outputs": [],
   "source": [
    "df = pd.read_csv('/Users/spennyz/radiolab/final_data')"
   ]
  },
  {
   "cell_type": "markdown",
   "id": "73750cff",
   "metadata": {},
   "source": [
    "# Basic Data Types (included in Python itself)"
   ]
  },
  {
   "cell_type": "code",
   "execution_count": 33,
   "id": "54b325ad",
   "metadata": {},
   "outputs": [],
   "source": [
    "my_int = 5\n",
    "my_float = 5.0\n",
    "my_string = 'julia'\n",
    "#these are the basic types; if you want arrays of them, use lists/tuples to combine them\n",
    "\n",
    "\n",
    "my_tuple = (1, 3, 5) #tuples are immutable arrays; after defined, you can't change them\n",
    "my_list = [1, 3, 5] #lists are mutable arrays; after defined, you can still change their elements\n",
    "\n",
    "\n",
    "#what is the advantage then of a tuple over a list?\n",
    "#1 advantage: you don't want people messing with your values\n",
    "#2nd advantage: they are faster"
   ]
  },
  {
   "cell_type": "markdown",
   "id": "e6d9e2d3",
   "metadata": {},
   "source": [
    "# Custom Data Types (you define yourself, or you import them)"
   ]
  },
  {
   "cell_type": "code",
   "execution_count": 45,
   "id": "b1c570e2",
   "metadata": {},
   "outputs": [
    {
     "data": {
      "text/plain": [
       "[5, 3, 1]"
      ]
     },
     "execution_count": 45,
     "metadata": {},
     "output_type": "execute_result"
    }
   ],
   "source": [
    "my_array = np.array(my_list) #numpy arrays exist because they're compiled in C rather than Python itself; C is faster\n",
    "my_list[::-1] #the colon : means 'everything'"
   ]
  },
  {
   "cell_type": "markdown",
   "id": "b042ff55",
   "metadata": {},
   "source": [
    "Pandas is useful in Python for storing tabular data. It is also useful for pulling specific data out of those tables according to your wishes.\n",
    "Two main datatypes:\n",
    "Series (1 column, with 1 index column)\n",
    "DataFrame (more than 1 column, with 1 index column)\n",
    "\n",
    "To pull data from a DataFrame, use .loc[]\n",
    ".loc[] takes in two (2) inputs, separated by a comma. the first specifies the row(s), and the second specifies the column(s)"
   ]
  },
  {
   "cell_type": "markdown",
   "id": "35008cfb",
   "metadata": {},
   "source": [
    "# Subplots"
   ]
  },
  {
   "cell_type": "markdown",
   "id": "2c3befba",
   "metadata": {},
   "source": [
    "plt.subplots will return two objects: a figure object, and a tuple of axes objects\n",
    "\n",
    "figure object: overall figure canvas on which the axes are overlaid\n",
    "axes object: individual subplot canvases\n",
    "\n",
    "plt.subplots() will accept a number of keyword arguments, the mos"
   ]
  },
  {
   "cell_type": "code",
   "execution_count": null,
   "id": "325e1206",
   "metadata": {},
   "outputs": [],
   "source": [
    "fig, ax = plt.subplots()"
   ]
  }
 ],
 "metadata": {
  "kernelspec": {
   "display_name": "Python 3 (ipykernel)",
   "language": "python",
   "name": "python3"
  },
  "language_info": {
   "codemirror_mode": {
    "name": "ipython",
    "version": 3
   },
   "file_extension": ".py",
   "mimetype": "text/x-python",
   "name": "python",
   "nbconvert_exporter": "python",
   "pygments_lexer": "ipython3",
   "version": "3.10.4"
  }
 },
 "nbformat": 4,
 "nbformat_minor": 5
}
