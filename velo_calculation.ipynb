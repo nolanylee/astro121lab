{
 "cells": [
  {
   "cell_type": "code",
   "execution_count": 1,
   "metadata": {},
   "outputs": [
    {
     "name": "stdout",
     "output_type": "stream",
     "text": [
      "No module named 'rtlsdr'\n"
     ]
    }
   ],
   "source": [
    "import ugradio\n",
    "import numpy as np\n",
    "import pandas as pd\n",
    "from astropy.io import fits\n",
    "import matplotlib.pyplot as plt\n",
    "import dish\n",
    "import cartopy.crs as ccrs\n",
    "from scipy.interpolate import interp2d\n",
    "from tqdm import tqdm, trange\n",
    "%matplotlib inline"
   ]
  },
  {
   "cell_type": "code",
   "execution_count": 2,
   "metadata": {},
   "outputs": [],
   "source": [
    "def calibrate(data_nd0, data_nd1, pol):\n",
    "    diff = np.array(data_nd1) - np.array(data_nd0)\n",
    "    if pol == 0:\n",
    "        T = 90\n",
    "    elif pol == 1:\n",
    "        T = 65\n",
    "    else: print('Bruh its literally either a 0 or 1 you cant fuck it up')\n",
    "    G = T/diff\n",
    "    t_line = G * data_nd0\n",
    "    return t_line\n",
    "\n",
    "def calibrate1(data_nd0, data_nd1, pol):\n",
    "    diff = np.median(np.array(data_nd1) - np.array(data_nd0))\n",
    "    if pol == 0:\n",
    "        T = 90\n",
    "    elif pol == 1:\n",
    "        T = 65\n",
    "    else: print('Bruh its literally either a 0 or 1 you cant fuck it up')\n",
    "    G = T/diff\n",
    "    t_line = G * data_nd0\n",
    "    return t_line\n",
    "\n",
    "def calibrate2(data_nd0, data_nd1, pol):\n",
    "    \n",
    "    F_low = 146.5\n",
    "    F_high = 148.5\n",
    "    freq = np.linspace(144,156,8192)\n",
    "    condition = (freq >= F_low) * (freq <= F_high)\n",
    "    trunc_freq = freq[condition]\n",
    "    \n",
    "    diff = np.median(np.array(data_nd1[:,condition]) - np.array(data_nd0[:,condition]))\n",
    "    \n",
    "    if pol == 0:\n",
    "        T = 90\n",
    "    elif pol == 1:\n",
    "        T = 65\n",
    "    else: print('Bruh its literally either a 0 or 1 you cant fuck it up')\n",
    "        \n",
    "    G = T/diff\n",
    "    t_line = G * data_nd0\n",
    "    return t_line"
   ]
  },
  {
   "cell_type": "code",
   "execution_count": 3,
   "metadata": {},
   "outputs": [],
   "source": [
    "nfiles = 697\n",
    "nfreq = 8192"
   ]
  },
  {
   "cell_type": "code",
   "execution_count": 4,
   "metadata": {},
   "outputs": [
    {
     "name": "stderr",
     "output_type": "stream",
     "text": [
      "100%|██████████| 697/697 [02:36<00:00,  4.45it/s]\n"
     ]
    }
   ],
   "source": [
    "nspec = 50\n",
    "\n",
    "list_0 = np.empty((nfiles, nspec, nfreq))\n",
    "# list_1 = np.empty((nfiles, nspec, nfreq))\n",
    "\n",
    "for i in trange(nfiles):\n",
    "    \n",
    "    f = fits.open(f'lab4_data/{i}_nd0.fits')\n",
    "    \n",
    "    for j in range(nspec):\n",
    "        \n",
    "        list_0[i,j] = f[j+1].data['auto0_real']\n",
    "        \n",
    "#         list_1[i,j] = f[j+1].data['auto1_real']"
   ]
  },
  {
   "cell_type": "code",
   "execution_count": 5,
   "metadata": {},
   "outputs": [
    {
     "name": "stderr",
     "output_type": "stream",
     "text": [
      "100%|██████████| 697/697 [00:18<00:00, 37.18it/s]\n"
     ]
    }
   ],
   "source": [
    "noise_spec = 5\n",
    "\n",
    "noise_0 = np.empty((nfiles, noise_spec, nfreq))\n",
    "# noise_1 = np.empty((nfiles, noise_spec, nfreq))\n",
    "\n",
    "for i in trange(nfiles):\n",
    "    \n",
    "    f = fits.open(f'lab4_data/{i}_nd1.fits')\n",
    "    \n",
    "    for j in range(noise_spec):\n",
    "        \n",
    "        noise_0[i,j] = f[j+1].data['auto0_real']\n",
    "        \n",
    "#         noise_1[i,j] = f[j+1].data['auto1_real']"
   ]
  },
  {
   "cell_type": "code",
   "execution_count": 6,
   "metadata": {},
   "outputs": [],
   "source": [
    "median_specs_0 = np.median(list_0, axis=1)\n",
    "# median_specs_1 = np.median(list_1, axis=1)"
   ]
  },
  {
   "cell_type": "code",
   "execution_count": 7,
   "metadata": {},
   "outputs": [],
   "source": [
    "median_noise_0 = np.median(noise_0, axis=1)\n",
    "# median_noise_1 = np.median(noise_1, axis=1)"
   ]
  },
  {
   "cell_type": "code",
   "execution_count": 8,
   "metadata": {},
   "outputs": [],
   "source": [
    "Tline_0 = calibrate2(median_specs_0, median_noise_0, 0)\n",
    "# Tline_1 = calibrate2(median_specs_1, median_noise_1, 1)"
   ]
  },
  {
   "cell_type": "code",
   "execution_count": 73,
   "metadata": {},
   "outputs": [
    {
     "name": "stderr",
     "output_type": "stream",
     "text": [
      "100%|██████████| 697/697 [00:00<00:00, 6417.29it/s]\n"
     ]
    }
   ],
   "source": [
    "F_low = 149.7\n",
    "F_high = 150.2\n",
    "freq = np.linspace(144,156,8192)\n",
    "condition = (freq >= F_low) * (freq <= F_high)\n",
    "\n",
    "ctline_0 = np.empty((nfiles, nfreq))\n",
    "# ctline_1 = np.empty((nfiles, nfreq))\n",
    "\n",
    "for i in trange(nfiles):\n",
    "    sub_0 = Tline_0[i] - np.median(Tline_0[i,condition])\n",
    "    ctline_0[i] = sub_0\n",
    "#     sub_1 = Tline_1[i] - np.median(Tline_1[i,condition])\n",
    "#     ctline_1[i] = sub_1"
   ]
  },
  {
   "cell_type": "code",
   "execution_count": 77,
   "metadata": {},
   "outputs": [
    {
     "data": {
      "text/plain": [
       "{'amp': array([20.60510886]),\n",
       " 'avg': array([149.92074041]),\n",
       " 'sig': array([0.04346557])}"
      ]
     },
     "execution_count": 77,
     "metadata": {},
     "output_type": "execute_result"
    }
   ],
   "source": [
    "trunc_freq = freq[condition]\n",
    "trunc_spec = ctline_0[120, condition]\n",
    "\n",
    "gaussian_fit, cov = ugradio.gauss.gaussfit(x = trunc_freq, y = trunc_spec,\n",
    "                                          amp = trunc_spec.max(),\n",
    "                                          avg = 149.9,\n",
    "                                          sig = 0.3,\n",
    "                                          return_cov = True)\n",
    "gaussian_fit"
   ]
  },
  {
   "cell_type": "code",
   "execution_count": 78,
   "metadata": {},
   "outputs": [],
   "source": [
    "gaussian_val = ugradio.gauss.gaussval(trunc_freq, \n",
    "                                     gaussian_fit['amp'],\n",
    "                                     gaussian_fit['avg'],\n",
    "                                     gaussian_fit['sig'])"
   ]
  },
  {
   "cell_type": "code",
   "execution_count": 79,
   "metadata": {},
   "outputs": [
    {
     "data": {
      "text/plain": [
       "<function matplotlib.pyplot.show(*args, **kw)>"
      ]
     },
     "execution_count": 79,
     "metadata": {},
     "output_type": "execute_result"
    },
    {
     "data": {
      "image/png": "[encoded data removed]",
      "text/plain": [
       "<Figure size 432x288 with 1 Axes>"
      ]
     },
     "metadata": {
      "needs_background": "light"
     },
     "output_type": "display_data"
    }
   ],
   "source": [
    "plt.plot(trunc_freq,trunc_spec)\n",
    "plt.plot(trunc_freq, gaussian_val)\n",
    "plt.grid()\n",
    "plt.show"
   ]
  },
  {
   "cell_type": "code",
   "execution_count": null,
   "metadata": {},
   "outputs": [],
   "source": []
  }
 ],
 "metadata": {
  "kernelspec": {
   "display_name": "Python 3",
   "language": "python",
   "name": "python3"
  },
  "language_info": {
   "codemirror_mode": {
    "name": "ipython",
    "version": 3
   },
   "file_extension": ".py",
   "mimetype": "text/x-python",
   "name": "python",
   "nbconvert_exporter": "python",
   "pygments_lexer": "ipython3",
   "version": "3.8.10"
  }
 },
 "nbformat": 4,
 "nbformat_minor": 4
}
